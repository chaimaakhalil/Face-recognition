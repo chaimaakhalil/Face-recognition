{
 "cells": [
  {
   "cell_type": "markdown",
   "id": "0db88afa",
   "metadata": {},
   "source": [
    "# Projet ACP : Reconnaissance Faciale"
   ]
  },
  {
   "cell_type": "markdown",
   "id": "ee4a5a88",
   "metadata": {},
   "source": [
    "## Réalisé par : \n",
    "### Achraf Aissy - Amine Imariren - Chaimae Khalil - Oussama Teffal - Siham Hafsi"
   ]
  },
  {
   "cell_type": "markdown",
   "id": "9463c1b5",
   "metadata": {},
   "source": [
    "## Encadré par : \n",
    "### Pr.A.Ghazdali"
   ]
  },
  {
   "cell_type": "markdown",
   "id": "b22ed111",
   "metadata": {},
   "source": [
    "# Introduction :"
   ]
  },
  {
   "cell_type": "markdown",
   "id": "94dd8cee",
   "metadata": {},
   "source": [
    "### En reconnaissance faciale, l'ACP peut être utilisée pour extraire des caractéristiques importantes des visages qui peuvent être utilisées pour l'identification et la classification."
   ]
  },
  {
   "cell_type": "markdown",
   "id": "46ec0fca",
   "metadata": {},
   "source": [
    "### L'ACP peut également être utilisée pour réduire le nombre de dimensions des données d'images de visage, ce qui peut rendre les algorithmes de reconnaissance faciale plus efficaces et plus rapides."
   ]
  },
  {
   "cell_type": "markdown",
   "id": "f1fb0331",
   "metadata": {},
   "source": [
    "# "
   ]
  },
  {
   "cell_type": "markdown",
   "id": "74720327",
   "metadata": {},
   "source": [
    "# L'import des modules nécessaires : "
   ]
  },
  {
   "cell_type": "code",
   "execution_count": 1,
   "id": "6652c31f",
   "metadata": {},
   "outputs": [],
   "source": [
    "import os\n",
    "import sys\n",
    "import cv2\n",
    "import numpy as np\n",
    "import matplotlib\n",
    "import matplotlib.pyplot as plt\n",
    "%matplotlib inline\n",
    "\n",
    "'''__________________________USER SELECTED AREA___________________________'''\n",
    "dirNameTrain = './INPUT/TRAIN'\n",
    "dirNameTest\t = './INPUT/TEST'"
   ]
  },
  {
   "cell_type": "markdown",
   "id": "1b0e3efd",
   "metadata": {},
   "source": [
    "# La fonction qui lit les images : "
   ]
  },
  {
   "cell_type": "code",
   "execution_count": 2,
   "id": "b74cce19",
   "metadata": {},
   "outputs": [],
   "source": [
    "def ReadImages(path):\n",
    "    print('Reading images from ' + path, end=' ... ', flush=True)\n",
    "    # Create array of array of images.\n",
    "    images = []\n",
    "    # List all files in the directory and read points from text files one by one\n",
    "    for filePath in sorted(os.listdir(path)):\n",
    "        fileExt = os.path.splitext(filePath)[1]\n",
    "        if fileExt in ['.jpg', '.jpeg', '.pgm']:\n",
    "            # Add to array of images\n",
    "            imagePath = os.path.join(path, filePath)\n",
    "            im = cv2.imread(imagePath)\n",
    "            im = cv2.cvtColor(im, cv2.COLOR_BGR2GRAY)\n",
    "\n",
    "            if im is None :\n",
    "                print('image:{} not read properly'.format(imagePath))\n",
    "            else :\n",
    "                # Convert image to floating point\n",
    "                im = np.float32(im)\n",
    "                # Add image to list\n",
    "                images.append(im)\n",
    "                # Flip image\n",
    "                #imFlip = cv2.flip(im, 1);\n",
    "                # Append flipped image\n",
    "                #images.append(imFlip)\n",
    "\n",
    "    numImages = len(images)\n",
    "    # Exit if no image found\n",
    "    if numImages == 0 :\n",
    "        print('No images found')\n",
    "        sys.exit(0)\n",
    "\n",
    "    print(str(numImages) + ' files read.')\n",
    "\n",
    "    return images"
   ]
  },
  {
   "cell_type": "markdown",
   "id": "31369ca6",
   "metadata": {},
   "source": [
    "### Une image est traitée comme un vecteur 𝛤i (m×n,1) dans un espace vectoriel de grande dimension (N = m × n), par concaténation des colonnes.\n",
    "\n",
    "![](image_vecteur.png)"
   ]
  },
  {
   "cell_type": "code",
   "execution_count": 4,
   "id": "f4445fae",
   "metadata": {},
   "outputs": [],
   "source": [
    "def CreateDataMatrix(images):\n",
    "    print('Creating data matrix',end=' ... ', flush=True)\n",
    "    \n",
    "    numImages = len(images)\n",
    "    sz = images[0].shape\n",
    "    data = np.zeros(( sz[0] * sz[1], numImages), dtype=np.float32)\n",
    "    for i in range(0, numImages):\n",
    "        image = images[i].flatten()\n",
    "\n",
    "        data[:,i] = image\n",
    "\n",
    "    print('DONE')\n",
    "    return data"
   ]
  },
  {
   "cell_type": "markdown",
   "id": "68af8ac6",
   "metadata": {},
   "source": [
    "# La fonction qui calcule les valeurs propres - les vecteurs propres : "
   ]
  },
  {
   "cell_type": "code",
   "execution_count": 5,
   "id": "abd23b40",
   "metadata": {},
   "outputs": [],
   "source": [
    "def Find_Eigen(matrix) :\n",
    "    eigenVectors , eigenValues , _ = np.linalg.svd(matrix, full_matrices = False )\n",
    "    sort = eigenValues.argsort()[::-1]\n",
    "    eigenValues = eigenValues[sort]\n",
    "    eigenVectors = eigenVectors[:,sort]\n",
    "    return eigenValues,eigenVectors"
   ]
  },
  {
   "cell_type": "markdown",
   "id": "fb4f561a",
   "metadata": {},
   "source": [
    "# Lire les donnés depuis le dataset\n",
    "##  Former les matrice des visages pour le train et le test : \n",
    "\n",
    "![](DataMatrix.png)  "
   ]
  },
  {
   "cell_type": "markdown",
   "id": "3a3c95d0",
   "metadata": {},
   "source": [
    "![](sample_Image.png)"
   ]
  },
  {
   "cell_type": "code",
   "execution_count": 7,
   "id": "27cb90eb",
   "metadata": {},
   "outputs": [
    {
     "name": "stdout",
     "output_type": "stream",
     "text": [
      "Reading images from ./INPUT/TRAIN ... 105 files read.\n",
      "[[255. 255. 255. ... 255. 255. 255.]\n",
      " [255. 255. 255. ... 255. 255. 255.]\n",
      " [255. 255. 255. ... 255. 255. 255.]\n",
      " ...\n",
      " [255. 255. 255. ... 243. 235. 252.]\n",
      " [255. 255. 255. ... 255. 255. 255.]\n",
      " [255. 255. 255. ... 255. 255. 255.]]\n",
      "Creating data matrix ... DONE\n",
      "Reading images from ./INPUT/TEST ... 30 files read.\n",
      "Creating data matrix ... DONE\n"
     ]
    }
   ],
   "source": [
    "# Read images\n",
    "train_images = ReadImages(dirNameTrain)\n",
    "print(train_images[0])\n",
    "#plt.imshow(train_images[0], cmap= 'gray')\n",
    "    \n",
    "# Create train face matrix.\n",
    "face_vector = CreateDataMatrix(train_images)\n",
    "    \n",
    "# Read test images\n",
    "test_images = ReadImages(dirNameTest)\n",
    "\n",
    "# Create test face matrix.\n",
    "test_face_vector = CreateDataMatrix(test_images)"
   ]
  },
  {
   "cell_type": "markdown",
   "id": "160596e1",
   "metadata": {},
   "source": [
    "# L'entrainement : "
   ]
  },
  {
   "cell_type": "code",
   "execution_count": 12,
   "id": "9515928b",
   "metadata": {},
   "outputs": [
    {
     "name": "stdout",
     "output_type": "stream",
     "text": [
      "(231, 195)\n",
      "105\n"
     ]
    }
   ],
   "source": [
    "#Calcul de la moyenne\n",
    "average_face_vector = np.mean(face_vector, axis=1)\n",
    "average_face_vector.shape = (len(average_face_vector), 1)\n",
    "    \n",
    "# Size of images\n",
    "sz = train_images[0].shape\n",
    "print(sz)\n",
    "number_train_images= face_vector.shape[1]\n",
    "print(number_train_images)\n",
    "#print(np.array(train_images))"
   ]
  },
  {
   "cell_type": "markdown",
   "id": "fac949d9",
   "metadata": {},
   "source": [
    "# Centrer les données et calculer la matrive de covariance : "
   ]
  },
  {
   "cell_type": "code",
   "execution_count": 13,
   "id": "1848e195",
   "metadata": {},
   "outputs": [
    {
     "name": "stdout",
     "output_type": "stream",
     "text": [
      "covariance_matrix.shape = (105, 105)\n",
      "[[ 1.0673395e+08  8.1968960e+07  9.6103240e+07 ... -1.8496652e+07\n",
      "  -1.8047966e+07 -1.7911008e+07]\n",
      " [ 8.1968960e+07  1.1102928e+08  8.7443904e+07 ... -8.3390385e+06\n",
      "  -2.4357890e+06 -9.0598960e+06]\n",
      " [ 9.6103240e+07  8.7443904e+07  1.2789400e+08 ... -2.7477528e+07\n",
      "  -2.9212850e+07 -2.7631056e+07]\n",
      " ...\n",
      " [-1.8496652e+07 -8.3390385e+06 -2.7477528e+07 ...  1.9083254e+08\n",
      "   1.4555168e+08  9.3259184e+07]\n",
      " [-1.8047966e+07 -2.4357890e+06 -2.9212850e+07 ...  1.4555168e+08\n",
      "   1.7537309e+08  7.1434224e+07]\n",
      " [-1.7911008e+07 -9.0598960e+06 -2.7631056e+07 ...  9.3259184e+07\n",
      "   7.1434224e+07  1.5209570e+08]]\n"
     ]
    }
   ],
   "source": [
    "# Subtract average_face_vector from every image vector.\n",
    "sub_face_vector = np.zeros(face_vector.shape, dtype=np.float32)\n",
    "sub_face_vector = face_vector - average_face_vector\n",
    "\n",
    "# Calculate covariance matrix of above matrix -> C = A*transpose(A)\n",
    "covariance_matrix = np.dot(sub_face_vector.T, sub_face_vector)\n",
    "print(\"covariance_matrix.shape =\", covariance_matrix.shape)\n",
    "print(covariance_matrix)"
   ]
  },
  {
   "cell_type": "markdown",
   "id": "296c1687",
   "metadata": {},
   "source": [
    "# Valeurs propres - Vecteurs propres : "
   ]
  },
  {
   "cell_type": "code",
   "execution_count": 14,
   "id": "ddfafafc",
   "metadata": {},
   "outputs": [
    {
     "name": "stdout",
     "output_type": "stream",
     "text": [
      "Calculating PCA  ... DONE\n",
      "(45045, 105)\n"
     ]
    },
    {
     "data": {
      "text/plain": [
       "Text(0.5, 0, 'index number')"
      ]
     },
     "execution_count": 14,
     "metadata": {},
     "output_type": "execute_result"
    },
    {
     "data": {
      "image/png": "[encoded data removed]",
      "text/plain": [
       "<Figure size 432x288 with 1 Axes>"
      ]
     },
     "metadata": {
      "needs_background": "light"
     },
     "output_type": "display_data"
    }
   ],
   "source": [
    "# Find eigenvectors and eigenvalues of above covariance matrix.\n",
    "# eigenvalues arranged to match with associated eigenvector\n",
    "print('Calculating PCA ', end=' ... ', flush=True)\n",
    "eigenValues, eigenVectors = Find_Eigen(sub_face_vector)\n",
    "print('DONE')\n",
    "print(eigenVectors.shape)\n",
    "\n",
    "# Plot the ordered eigen values.\n",
    "plt.plot(eigenValues, 'r+')\n",
    "plt.title('eigenValues Ordered')\n",
    "plt.ylabel('Value of eigenValues')\n",
    "plt.xlabel('index number')"
   ]
  },
  {
   "cell_type": "markdown",
   "id": "24d20270",
   "metadata": {},
   "source": [
    "# Afficher l’image que contient l’un de ces vecteurs propres : "
   ]
  },
  {
   "cell_type": "code",
   "execution_count": 15,
   "id": "5deccdbe",
   "metadata": {},
   "outputs": [
    {
     "data": {
      "text/plain": [
       "<matplotlib.image.AxesImage at 0x18112e105e0>"
      ]
     },
     "execution_count": 15,
     "metadata": {},
     "output_type": "execute_result"
    },
    {
     "data": {
      "image/png": "[encoded data removed]",
      "text/plain": [
       "<Figure size 432x288 with 3 Axes>"
      ]
     },
     "metadata": {
      "needs_background": "light"
     },
     "output_type": "display_data"
    }
   ],
   "source": [
    "plt.subplot(1,3,1)\n",
    "plt.imshow(eigenVectors[:,0].reshape(sz), cmap= 'gray')\n",
    "plt.subplot(1,3,2)\n",
    "plt.imshow(eigenVectors[:,7].reshape(sz), cmap= 'gray')\n",
    "plt.subplot(1,3,3)\n",
    "plt.imshow(eigenVectors[:,10].reshape(sz), cmap= 'gray')"
   ]
  },
  {
   "cell_type": "markdown",
   "id": "74ce7d9b",
   "metadata": {},
   "source": [
    "# Caluler le poids : "
   ]
  },
  {
   "cell_type": "code",
   "execution_count": 16,
   "id": "6381626b",
   "metadata": {},
   "outputs": [
    {
     "data": {
      "text/plain": [
       "(105, 105)"
      ]
     },
     "execution_count": 16,
     "metadata": {},
     "output_type": "execute_result"
    }
   ],
   "source": [
    "weights = np.dot(eigenVectors.T, sub_face_vector)\n",
    "weights.shape"
   ]
  },
  {
   "cell_type": "markdown",
   "id": "bafd0fbf",
   "metadata": {},
   "source": [
    "# "
   ]
  },
  {
   "cell_type": "markdown",
   "id": "7f6dbba0",
   "metadata": {},
   "source": [
    "# Le test"
   ]
  },
  {
   "cell_type": "markdown",
   "id": "76677b7f",
   "metadata": {},
   "source": [
    "## Réduire les dimensions des donnés du test :"
   ]
  },
  {
   "cell_type": "code",
   "execution_count": 17,
   "id": "60dc8912",
   "metadata": {},
   "outputs": [
    {
     "name": "stdout",
     "output_type": "stream",
     "text": [
      "(105, 30)\n"
     ]
    }
   ],
   "source": [
    "# Find average_face_vector, sum(all image vectors)/number(images).\n",
    "average_test_face_vector = test_face_vector - average_face_vector\n",
    "        \n",
    "#Transform the test images to 'V' space\n",
    "weights_test = np.dot(eigenVectors.T, average_test_face_vector)\n",
    "print(weights_test.shape)"
   ]
  },
  {
   "cell_type": "markdown",
   "id": "737796ca",
   "metadata": {},
   "source": [
    "## Projeter weights_test dans l'espace géneré par eignvector(inv(Sw)*Sb) :"
   ]
  },
  {
   "cell_type": "code",
   "execution_count": 18,
   "id": "52c1c630",
   "metadata": {},
   "outputs": [
    {
     "name": "stdout",
     "output_type": "stream",
     "text": [
      "(105, 30)\n"
     ]
    }
   ],
   "source": [
    "projected_fisher_faces = np.dot(weights.T, weights_test)\n",
    "print(projected_fisher_faces.shape)"
   ]
  },
  {
   "cell_type": "markdown",
   "id": "c5a5a5d6",
   "metadata": {},
   "source": [
    "## On utilise la distance euclidien pour classifier les images"
   ]
  },
  {
   "cell_type": "code",
   "execution_count": 19,
   "id": "c57071a5",
   "metadata": {},
   "outputs": [
    {
     "name": "stdout",
     "output_type": "stream",
     "text": [
      "[ 0.  0.  1.  1.  2.  2.  3.  3.  4.  4.  5.  5. 13.  6.  7.  7.  8.  8.\n",
      "  9.  9. 10. 10. 11. 11. 12. 12. 13. 13. 14. 14.]\n"
     ]
    }
   ],
   "source": [
    "# Create array to keep matched images\n",
    "Matched_Faces = np.zeros((weights_test.shape[1]))\n",
    "    \n",
    "# Compare all weights_test among the weights and Calculate Similarity\n",
    "for i in range(0, weights_test.shape[1]):\n",
    "    error = np.zeros((weights.shape[1]))\n",
    "    for j in range (0, weights.shape[1]):\n",
    "        error[j] = np.sqrt(np.sum((weights[:, j] - weights_test[:, i])**2))\n",
    "            \n",
    "    # Match the test image with training image \n",
    "    Matched_Faces[i] = error.argmin() // 7\n",
    "\n",
    "# Print the indexes of matched images\n",
    "print(Matched_Faces)"
   ]
  },
  {
   "cell_type": "markdown",
   "id": "613d73ac",
   "metadata": {},
   "source": [
    "# -- __TP__ = 29 out of 30, $\\%97$ Accuracy"
   ]
  },
  {
   "cell_type": "markdown",
   "id": "9c5ff918",
   "metadata": {},
   "source": [
    "# "
   ]
  },
  {
   "cell_type": "markdown",
   "id": "f5838ecc",
   "metadata": {},
   "source": [
    "# Conclusion"
   ]
  },
  {
   "cell_type": "markdown",
   "id": "b8c46cce",
   "metadata": {},
   "source": [
    "### Les méthodes de projections peuvent être de nature linéaire ou non linéaire mais ayant un but commun. C’est la projection des données dans un nouveau sous-espace, qui élimine les éléments ne portant pas une information aidant à classifier les visages Nous avons en extension, fusionné les méthodes avec le classificateur classique : la distance euclidienne, ce système atteint un taux de reconnaissance = 97%."
   ]
  }
 ],
 "metadata": {
  "kernelspec": {
   "display_name": "Python 3",
   "language": "python",
   "name": "python3"
  },
  "language_info": {
   "codemirror_mode": {
    "name": "ipython",
    "version": 3
   },
   "file_extension": ".py",
   "mimetype": "text/x-python",
   "name": "python",
   "nbconvert_exporter": "python",
   "pygments_lexer": "ipython3",
   "version": "3.8.8"
  }
 },
 "nbformat": 4,
 "nbformat_minor": 5
}
